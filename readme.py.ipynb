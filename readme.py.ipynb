{
 "cells": [
  {
   "cell_type": "markdown",
   "id": "8ddb473f",
   "metadata": {},
   "source": [
    "# Independent Regression Project"
   ]
  },
  {
   "cell_type": "markdown",
   "id": "376fc33d",
   "metadata": {},
   "source": [
    "# Project Description\n",
    "\n",
    "This project is a personal project that I am creating, so that I may continue learning how regression works.  I will use data from data.org: HVAC Market Share by Efficiency and Capacity: Beginning 2017 summary\n",
    "\n",
    "Summary: HVAC Market Share by Efficiency and Capacity: Beginning 2017 dataset is based on heating, ventilation, and air conditioning (HVAC) sales data reported to D+R International by Heating, Air-conditioning & Refrigeration Distributors International (HARDI) members participating in the Unitary HVAC Market Report. Participation in the report is voluntary for distributors. The dataset covers New York State and the Northeast (includes Maine, New Hampshire, Vermont, Massachusetts, Connecticut, and Rhode Island). Blank cells represent data that are not currently available.\n",
    "\n",
    "Using this data set, I will use regression models with vizualizations, that may be of help to new data science students, but also show prospective employers my skills gained as a Data Science student at Codeup."
   ]
  },
  {
   "cell_type": "markdown",
   "id": "1e27a728",
   "metadata": {},
   "source": [
    "# Project Plan\n",
    "\n",
    "Your readme should include a project plan which helps guide both the user and yourself through the different stages of the pipeline and steps you took to get to your conclusion.\n",
    "\n",
    "The goal of this stage is to clearly define your goal(s), measures of success, and plans on how to achieve that.\n",
    "\n",
    "The deliverable is documentation of your goal, your measure of success, and how you plan on getting there. If you haven't clearly defined success, you will not know when you have achieved it.\n",
    "\n",
    "How to get there: You can get there by answering questions about the final product & formulating or identifying any initial hypotheses (from you or others)."
   ]
  },
  {
   "cell_type": "markdown",
   "id": "40652360",
   "metadata": {},
   "source": [
    "# Project Goal\n",
    "I will use the date set, HVAC Market Share by Efficiency and Capacity, and create a usable model, using the data science pipeline.\n",
    "\n",
    "My goal is to predict sales of HVAC, and make recommendations for changes, so that we can increase sales."
   ]
  },
  {
   "cell_type": "markdown",
   "id": "fbf70768",
   "metadata": {},
   "source": [
    "# Measure of Success\n",
    "The measure of success will be that my predictions are better than baseline."
   ]
  },
  {
   "cell_type": "markdown",
   "id": "06d0ab27",
   "metadata": {},
   "source": [
    "# Initial Questions\n",
    "Which type of HVAC equipment, Air Conditioner (AC), Air-Source Heat Pump (ASHP), Boiler, or Furnace, sold the most?\n",
    "\n",
    "Does the type of fuel determine better sales for boilers or furnaces?\n",
    "\n",
    "Does the furnace blower type determine better sales for furnaces?\n",
    "\n",
    "Do energy ratings have a relationship with equipment type sales?\n",
    "\n",
    "Do heating or cooling capacity influence sales?\n"
   ]
  },
  {
   "cell_type": "markdown",
   "id": "58ea9429",
   "metadata": {},
   "source": [
    "### Planning: How to achieve my goal\n",
    "\n",
    "### Acquire \n",
    "I will acquire the data by accessing the website and downloading a csv file and reading into the notebook.\n",
    "\n",
    "### Prepare\n",
    "I prepared the data by eliminating whitespace, dropping columns that had no beearing on the data, \n",
    "\n",
    "### Explore & Preprocessing\n",
    "I explored the relationship of the variables using both univariate and multivariate exploration. I created vizualitions I performed statistical tests\n",
    "### Modeling\n",
    "I will use Ordinary Least Squares, LASSO + LARS, Polynomial Regression, Generalized Linear Model (Tweedie)\n",
    "### Delivery\n",
    "The deliverables will be a Readme.py, .pymodules for wrangle (acquire and preparation), explore, and model, and a final notebook with best model analysis, conclusion, recommendations, and next steps\n"
   ]
  },
  {
   "cell_type": "markdown",
   "id": "87b1b874",
   "metadata": {},
   "source": [
    "# Data Dictionary"
   ]
  },
  {
   "cell_type": "markdown",
   "id": "873b2266",
   "metadata": {},
   "source": [
    "Column Name\tDescription\tType\n",
    "\n",
    "Year\t\n",
    "The time period (year) covered by the dataset\n",
    "Number\n",
    "\n",
    "Region\t\n",
    "Name of U.S. State or HARDI Region where sale of equipment occurred; either New York State or Northeastern. For the sake of this data, the Northeastern region is defined as including Maine, New Hampshire, Vermont, Massachusetts, Connecticut, and Rhode Island; and the New York region includes all of New York State.\n",
    "Plain Text\n",
    "\n",
    "Type\t\n",
    "Type of HVAC equipment sold; Air Conditioner (AC), Air-Source Heat Pump (ASHP), Boiler, or Furnace\n",
    "Plain Text\n",
    "\n",
    "Units\t\n",
    "Number of units sold. If the value is negative, that indicates that more units were returned than sold.\n",
    "Number\n",
    "\n",
    "AFUE\t\n",
    "Annualized Fuel Utilization Efficiency (AFUE) of the equipment, which is a measurement of the ratio of the annual heat output of the equipment compared to the total annual fossil fuel energy consumed by the equipment. AFUE for the type of furnace tracked through this program have a minimum federal efficiency of 78 AFUE, however, all sold were at least 80 AFUE. AFUE does not exceed a nominal value of 98 in the reported data since furnaces are fossil fuel only, and exclude electric. Blank cells indicate no data available\n",
    "Number\n",
    "\n",
    "SEER\t\n",
    "Nominal Seasonal Energy Efficiency Ratio (SEER) of the outdoor condensing equipment. SEER is the ratio of the total heat removed from the conditioned space during the annual cooling season divided by the total electrical energy consumed by the air conditioner during the same season. The higher the SEER rating, the less electrical energy the air conditioner uses to cool the home. SEER values a reported by whole number increment and generally range from 13 to 26. For any values that exceed 26, they are binned into the 26 increment for reporting purpose. Blank cells indicate no data available\n",
    "Number\n",
    "\n",
    "Ducted\t\n",
    "Type of ducting used with equipment. 1 indicates ducted and 0 indicates ductless. Blank cells indicate no data available\n",
    "Number\n",
    "\n",
    "Refrigerant\t\n",
    "Type of refrigerant used in equipment. Two options for refrigerant are included in the data set – R22 and R410a. R22 is represented by a 22 and R410a is represented by 410 Blank cells indicate no data available\n",
    "Number\n",
    "\n",
    "Cooling (Btu/hr)\t\n",
    "Nominal cooling capacity for equipment in Btu per hour. For air conditioners, ground source heat pumps, and air source heat pumps, this is the capacity of the equipment rounded to the closest half-ton increment. Blank cells indicate no data available\n",
    "Number\n",
    "\n",
    "Heating (Btu/hr)\t\n",
    "Nominal heating capacity for equipment in Btu per hour. For furnaces and boilers, this is the manufacturer specified input capacity. Blank cells indicate no data available\n",
    "Number\n",
    "\n",
    "MotorType\t\n",
    "Type of blower motor installed in equipment; either ECM or PSC. Types include: • Electronically communicated motors (ECM) • Permanent split capacitor (PSC) ECM motors are more efficient than PSC motors because they can adjust airflow levels and the speed of the motor based on the temperature in the home. PSCs run at a constant speed regardless of the temperature of the home. Blank cells indicate no data available\n",
    "Plain Text\n",
    "\n",
    "HSPF\t\n",
    "Heating Season Performance Factor (HSPF). For split systems, the lowest matched pair value is reported. HSPF represents the total heating output of a heat pump (including supplementary electric heat) during the normal heating season (in Btu) as compared to the total electricity consumed (in watt-hours) during the same period. HSPF values in the dataset are reported as ranges. Generally, commercially available ASHPs do not exceed a value of 12.5 HSPF. Blank cells indicate no data available\n",
    "Plain Text\n",
    "\n",
    "FinalEstimate\t\n",
    "Estimated market sales of the record. Zero values indicate there are no estimates sales of that unit with associated spec information – generally due to purchases and returns being equal over the reported time period. Negative values indicate that more units were returned than sold for a given product category.\n",
    "Number\n",
    "\n",
    "EER\t\n",
    "Nominal Energy Efficiency Ratio (EER). EER is the ratio of the cooling capacity in Btu’s per hour to the power input in watts. The higher the EER, the more efficient a piece of equipment is. For split systems, the “lowest matched pair” value is reported to the nearest whole number increment. Blank cells indicate no data available\n",
    "Number\n",
    "\n",
    "FuelType\t\n",
    "Fuel type used by equipment (boilers and furnaces only); either Natural Gas or Oil. Blank cells indicate no data available or the field is irrelevant for the product category (ASHP or AC).\n",
    "Plain Text\n"
   ]
  },
  {
   "cell_type": "markdown",
   "id": "7d93fa21",
   "metadata": {},
   "source": [
    "# Reproducing analysis and final report\n",
    "In order to reproduce this project, retrieve data from https://data.world/data-ny-gov/tf22-v9nz\n",
    "Then copy this repositiory to use the modules and notebook.\n"
   ]
  }
 ],
 "metadata": {
  "kernelspec": {
   "display_name": "Python 3 (ipykernel)",
   "language": "python",
   "name": "python3"
  },
  "language_info": {
   "codemirror_mode": {
    "name": "ipython",
    "version": 3
   },
   "file_extension": ".py",
   "mimetype": "text/x-python",
   "name": "python",
   "nbconvert_exporter": "python",
   "pygments_lexer": "ipython3",
   "version": "3.9.12"
  }
 },
 "nbformat": 4,
 "nbformat_minor": 5
}

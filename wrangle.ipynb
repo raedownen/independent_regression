{
 "cells": [
  {
   "cell_type": "raw",
   "id": "7be759f8",
   "metadata": {},
   "source": [
    "The functions should be called to prepare your data (as opposed to re-writing the code of the functions in your notebook), and you should include in a markdown cell, a verbal explanation of the steps you took to prepare the data and why you made those decisions."
   ]
  },
  {
   "cell_type": "raw",
   "id": "8afce432",
   "metadata": {},
   "source": [
    "Wrangle\n",
    "\n",
    "Acquired data\n",
    "\n",
    "Create dummy vars\n",
    "\n",
    "Split data\n",
    "\n",
    "Scale data"
   ]
  },
  {
   "cell_type": "raw",
   "id": "27bd6d47",
   "metadata": {},
   "source": [
    "Acquisition\n",
    "\n",
    "Summarize the data through aggregates, descriptive stats and distribution plots (histograms, density plots, boxplots, e.g.). (pandas: .value_counts, .head, .shape, .describe, .info, matplotlib.pyplot.hist, seaborn.boxplot)\n",
    "\n",
    "Preparation\n",
    "Clean the data by converting datatypes and handle missing values. (pandas: .isnull, .value_counts, .dropna, .replace)\n",
    "Summarize Summarize the data through aggregates, descriptive stats and distribution plots (histograms, density plots, boxplots, e.g.). (pandas: .value_counts, .head, .shape, .describe, .info, matplotlib.pyplot.hist, seaborn.boxplot)\n",
    "\n",
    "Split our observations into 3 samples, Train, Validate, and Test. (sklearn.model_selection.train_test_split)."
   ]
  },
  {
   "cell_type": "raw",
   "id": "6b758d44",
   "metadata": {},
   "source": [
    "Module(s) with user-defined functions for acquiring and preparing the data should be created. Each function contains a helpful docstring explaining what it does, its input(s) and output(s). Credentials (such as in an env.py file) are NOT included in the public repo."
   ]
  },
  {
   "cell_type": "raw",
   "id": "1591ddeb",
   "metadata": {},
   "source": [
    "Module(s) with functions for acquiring and preparing the data are created. Functions include useful docstrings (beyond the docstrings of functions written and shared by instructors)"
   ]
  },
  {
   "cell_type": "raw",
   "id": "1d793921",
   "metadata": {},
   "source": [
    "You handled missing values by imputing or removing them in a logical and communicated way. You correctly handled missing values using a sound logic that was communicated via markdown documentation. You correctly used either the training data or the entire dataset to impute (given your method(s) for filling missing values)."
   ]
  },
  {
   "cell_type": "raw",
   "id": "349ddf4f",
   "metadata": {},
   "source": [
    "Decisions made and reasons are communicated and documented for handling missing values. If you imputed based on a computed value (such as mean, median, etc), that was done after splitting the data, and the value was derived from the training dataset only and then imputed into all 3 datasets. If you filled missing values with 0 or a constant not derived from existing values, that can be done prior to splitting the data."
   ]
  },
  {
   "cell_type": "raw",
   "id": "059dcb50",
   "metadata": {},
   "source": [
    "Exploration\n",
    "Hypothesize: We will discuss the meaning of \"drivers\", variables vs. features, and the target variable. We will discuss the importance of documenting questions and hypotheses, obtaining answers for those questions, and documenting takeaways and findings at each step of exploration.\n",
    "\n",
    "Visualize the interaction of variables, especially independent variables with the dependent variable using charts such as scatterplots, jointplots, pairgrids, and heatmaps to identify drivers.\n",
    "\n",
    "Test Hypotheses that involve a continuous variable using t-tests and correlation tests."
   ]
  },
  {
   "cell_type": "raw",
   "id": "1128bff0",
   "metadata": {},
   "source": [
    "Scale our numeric data so that all variables are on the same scale, such as between 0 and 1. We will discuss the importance of \"scaling\", different methods for scaling data, and why to use one type over another. (sklearn.preprocessing: StandardScaler, QuantileTransformer, PowerTransformer, RobustScaler, MinMaxScaler)"
   ]
  },
  {
   "cell_type": "raw",
   "id": "2f98629d",
   "metadata": {},
   "source": [
    "Data should always be split into three samples (Train, Validate, and Test) prior to exploration of variable relationships. In addition, imputers, scalers, feature elimination, and selection algorithms should all be run after the split, so they are fit on train and transform validate and test."
   ]
  },
  {
   "cell_type": "raw",
   "id": "31659d07",
   "metadata": {},
   "source": [
    "Your data was split into three samples before exploring the interaction of variables, imputing, scaling, or running feature elimination/selection algorithms."
   ]
  },
  {
   "cell_type": "raw",
   "id": "ad366785",
   "metadata": {},
   "source": [
    "If you are performing regression, clustering, or other algorithms that incorporate a distance metric (such as KNN), your features must be on the same scale when modeling. A scaler object must be fit on train and then transformed on all three datasets (train, validate, test)."
   ]
  },
  {
   "cell_type": "raw",
   "id": "2ea1899e",
   "metadata": {},
   "source": [
    "Modeling\n",
    "Feature Engineering: We will learn ways to identify, select, and create features through feature importance. We will discuss the \"Curse of Dimensionality.\" (sklearn.feature_selection.f_regression).\n",
    "\n",
    "Establish Baseline: We will learn about the importance of establishing a \"baseline model\" or baseline score and ways to complete this task. The baseline for regression is often computed by predicting each observation's value to be the mean or median of the dependent variable.\n",
    "\n",
    "Build Models: We will build linear regression models. What does that mean? We will extract the patterns in the data using well established algorithms, so that we don't have to do that manually. An example of a regression algorithm is the glm (generalized linear model). The algorithm will return to us a mathematical model or function (e.g. y = 3x + 2). That function will be used to compute predictions for each observation. We will learn about the differences in the most common regression algorithms. (sklearn.linear_model)\n",
    "\n",
    "Model Evaluation: We will compare regression models by computing evaluation metrics, i.e. metrics that measure how well a model did at predicting the target variable. (statsmodels.formula.api.ols, sklearn.metrics, math.sqrt)\n",
    "\n",
    "Model Selection and Testing: We will learn how to select a model, and we will test the model on the unseen data sample (the out-of-sample data in the validate and then test datasets)."
   ]
  },
  {
   "cell_type": "code",
   "execution_count": 1,
   "id": "01ae64ce",
   "metadata": {},
   "outputs": [],
   "source": [
    "import warnings\n",
    "warnings.filterwarnings(\"ignore\")\n",
    "\n",
    "import pandas as pd\n",
    "import matplotlib.pyplot as plt\n",
    "import seaborn as sns\n",
    "import numpy as np\n",
    "import env\n",
    "import os"
   ]
  },
  {
   "cell_type": "code",
   "execution_count": 2,
   "id": "8b43c4ac",
   "metadata": {},
   "outputs": [],
   "source": [
    "def get_hvac_data():\n",
    "    return pd.read_csv('hvac.csv')\n",
    "    return df"
   ]
  },
  {
   "cell_type": "code",
   "execution_count": 3,
   "id": "ba408336",
   "metadata": {},
   "outputs": [],
   "source": [
    "df=get_hvac_data()"
   ]
  },
  {
   "cell_type": "code",
   "execution_count": 4,
   "id": "d670cadc",
   "metadata": {},
   "outputs": [
    {
     "data": {
      "text/html": [
       "<div>\n",
       "<style scoped>\n",
       "    .dataframe tbody tr th:only-of-type {\n",
       "        vertical-align: middle;\n",
       "    }\n",
       "\n",
       "    .dataframe tbody tr th {\n",
       "        vertical-align: top;\n",
       "    }\n",
       "\n",
       "    .dataframe thead th {\n",
       "        text-align: right;\n",
       "    }\n",
       "</style>\n",
       "<table border=\"1\" class=\"dataframe\">\n",
       "  <thead>\n",
       "    <tr style=\"text-align: right;\">\n",
       "      <th></th>\n",
       "      <th>Year</th>\n",
       "      <th>Region</th>\n",
       "      <th>Type</th>\n",
       "      <th>Units</th>\n",
       "      <th>AFUE</th>\n",
       "      <th>SEER</th>\n",
       "      <th>Ducted</th>\n",
       "      <th>Refrigerant</th>\n",
       "      <th>Cooling (Btu/hr)</th>\n",
       "      <th>Heating (Btu/hr)</th>\n",
       "      <th>MotorType</th>\n",
       "      <th>HSPF</th>\n",
       "      <th>FinalEstimate</th>\n",
       "      <th>EER</th>\n",
       "      <th>FuelType</th>\n",
       "    </tr>\n",
       "  </thead>\n",
       "  <tbody>\n",
       "    <tr>\n",
       "      <th>0</th>\n",
       "      <td>2021</td>\n",
       "      <td>Northeastern</td>\n",
       "      <td>AC</td>\n",
       "      <td>33</td>\n",
       "      <td>NaN</td>\n",
       "      <td>13.0</td>\n",
       "      <td>0.0</td>\n",
       "      <td>410.0</td>\n",
       "      <td>18,000</td>\n",
       "      <td>NaN</td>\n",
       "      <td>NaN</td>\n",
       "      <td>NaN</td>\n",
       "      <td>165</td>\n",
       "      <td>NaN</td>\n",
       "      <td>NaN</td>\n",
       "    </tr>\n",
       "    <tr>\n",
       "      <th>1</th>\n",
       "      <td>2021</td>\n",
       "      <td>Northeastern</td>\n",
       "      <td>AC</td>\n",
       "      <td>326</td>\n",
       "      <td>NaN</td>\n",
       "      <td>13.0</td>\n",
       "      <td>0.0</td>\n",
       "      <td>410.0</td>\n",
       "      <td>24,000</td>\n",
       "      <td>NaN</td>\n",
       "      <td>NaN</td>\n",
       "      <td>NaN</td>\n",
       "      <td>1,631</td>\n",
       "      <td>NaN</td>\n",
       "      <td>NaN</td>\n",
       "    </tr>\n",
       "    <tr>\n",
       "      <th>2</th>\n",
       "      <td>2021</td>\n",
       "      <td>Northeastern</td>\n",
       "      <td>AC</td>\n",
       "      <td>289</td>\n",
       "      <td>NaN</td>\n",
       "      <td>13.0</td>\n",
       "      <td>0.0</td>\n",
       "      <td>410.0</td>\n",
       "      <td>30,000</td>\n",
       "      <td>NaN</td>\n",
       "      <td>NaN</td>\n",
       "      <td>NaN</td>\n",
       "      <td>1,446</td>\n",
       "      <td>NaN</td>\n",
       "      <td>NaN</td>\n",
       "    </tr>\n",
       "    <tr>\n",
       "      <th>3</th>\n",
       "      <td>2021</td>\n",
       "      <td>Northeastern</td>\n",
       "      <td>AC</td>\n",
       "      <td>31</td>\n",
       "      <td>NaN</td>\n",
       "      <td>13.0</td>\n",
       "      <td>0.0</td>\n",
       "      <td>410.0</td>\n",
       "      <td>42,000</td>\n",
       "      <td>NaN</td>\n",
       "      <td>NaN</td>\n",
       "      <td>NaN</td>\n",
       "      <td>155</td>\n",
       "      <td>NaN</td>\n",
       "      <td>NaN</td>\n",
       "    </tr>\n",
       "    <tr>\n",
       "      <th>4</th>\n",
       "      <td>2021</td>\n",
       "      <td>Northeastern</td>\n",
       "      <td>AC</td>\n",
       "      <td>49</td>\n",
       "      <td>NaN</td>\n",
       "      <td>13.0</td>\n",
       "      <td>0.0</td>\n",
       "      <td>410.0</td>\n",
       "      <td>48,000</td>\n",
       "      <td>NaN</td>\n",
       "      <td>NaN</td>\n",
       "      <td>NaN</td>\n",
       "      <td>245</td>\n",
       "      <td>NaN</td>\n",
       "      <td>NaN</td>\n",
       "    </tr>\n",
       "  </tbody>\n",
       "</table>\n",
       "</div>"
      ],
      "text/plain": [
       "   Year        Region Type Units  AFUE  SEER  Ducted  Refrigerant  \\\n",
       "0  2021  Northeastern   AC    33   NaN  13.0     0.0        410.0   \n",
       "1  2021  Northeastern   AC   326   NaN  13.0     0.0        410.0   \n",
       "2  2021  Northeastern   AC   289   NaN  13.0     0.0        410.0   \n",
       "3  2021  Northeastern   AC    31   NaN  13.0     0.0        410.0   \n",
       "4  2021  Northeastern   AC    49   NaN  13.0     0.0        410.0   \n",
       "\n",
       "  Cooling (Btu/hr) Heating (Btu/hr) MotorType HSPF FinalEstimate  EER FuelType  \n",
       "0           18,000              NaN       NaN  NaN           165  NaN      NaN  \n",
       "1           24,000              NaN       NaN  NaN         1,631  NaN      NaN  \n",
       "2           30,000              NaN       NaN  NaN         1,446  NaN      NaN  \n",
       "3           42,000              NaN       NaN  NaN           155  NaN      NaN  \n",
       "4           48,000              NaN       NaN  NaN           245  NaN      NaN  "
      ]
     },
     "execution_count": 4,
     "metadata": {},
     "output_type": "execute_result"
    }
   ],
   "source": [
    "df.head()"
   ]
  },
  {
   "cell_type": "markdown",
   "id": "50b85280",
   "metadata": {},
   "source": [
    "# Summarize the data"
   ]
  },
  {
   "cell_type": "code",
   "execution_count": 6,
   "id": "8d9821b2",
   "metadata": {},
   "outputs": [
    {
     "data": {
      "text/html": [
       "<div>\n",
       "<style scoped>\n",
       "    .dataframe tbody tr th:only-of-type {\n",
       "        vertical-align: middle;\n",
       "    }\n",
       "\n",
       "    .dataframe tbody tr th {\n",
       "        vertical-align: top;\n",
       "    }\n",
       "\n",
       "    .dataframe thead th {\n",
       "        text-align: right;\n",
       "    }\n",
       "</style>\n",
       "<table border=\"1\" class=\"dataframe\">\n",
       "  <thead>\n",
       "    <tr style=\"text-align: right;\">\n",
       "      <th></th>\n",
       "      <th>Year</th>\n",
       "      <th>Region</th>\n",
       "      <th>Type</th>\n",
       "      <th>Units</th>\n",
       "      <th>AFUE</th>\n",
       "      <th>SEER</th>\n",
       "      <th>Ducted</th>\n",
       "      <th>Refrigerant</th>\n",
       "      <th>Cooling (Btu/hr)</th>\n",
       "      <th>Heating (Btu/hr)</th>\n",
       "      <th>MotorType</th>\n",
       "      <th>HSPF</th>\n",
       "      <th>FinalEstimate</th>\n",
       "      <th>EER</th>\n",
       "      <th>FuelType</th>\n",
       "    </tr>\n",
       "  </thead>\n",
       "  <tbody>\n",
       "    <tr>\n",
       "      <th>0</th>\n",
       "      <td>2021</td>\n",
       "      <td>Northeastern</td>\n",
       "      <td>AC</td>\n",
       "      <td>33</td>\n",
       "      <td>NaN</td>\n",
       "      <td>13.0</td>\n",
       "      <td>0.0</td>\n",
       "      <td>410.0</td>\n",
       "      <td>18,000</td>\n",
       "      <td>NaN</td>\n",
       "      <td>NaN</td>\n",
       "      <td>NaN</td>\n",
       "      <td>165</td>\n",
       "      <td>NaN</td>\n",
       "      <td>NaN</td>\n",
       "    </tr>\n",
       "    <tr>\n",
       "      <th>1</th>\n",
       "      <td>2021</td>\n",
       "      <td>Northeastern</td>\n",
       "      <td>AC</td>\n",
       "      <td>326</td>\n",
       "      <td>NaN</td>\n",
       "      <td>13.0</td>\n",
       "      <td>0.0</td>\n",
       "      <td>410.0</td>\n",
       "      <td>24,000</td>\n",
       "      <td>NaN</td>\n",
       "      <td>NaN</td>\n",
       "      <td>NaN</td>\n",
       "      <td>1,631</td>\n",
       "      <td>NaN</td>\n",
       "      <td>NaN</td>\n",
       "    </tr>\n",
       "    <tr>\n",
       "      <th>2</th>\n",
       "      <td>2021</td>\n",
       "      <td>Northeastern</td>\n",
       "      <td>AC</td>\n",
       "      <td>289</td>\n",
       "      <td>NaN</td>\n",
       "      <td>13.0</td>\n",
       "      <td>0.0</td>\n",
       "      <td>410.0</td>\n",
       "      <td>30,000</td>\n",
       "      <td>NaN</td>\n",
       "      <td>NaN</td>\n",
       "      <td>NaN</td>\n",
       "      <td>1,446</td>\n",
       "      <td>NaN</td>\n",
       "      <td>NaN</td>\n",
       "    </tr>\n",
       "    <tr>\n",
       "      <th>3</th>\n",
       "      <td>2021</td>\n",
       "      <td>Northeastern</td>\n",
       "      <td>AC</td>\n",
       "      <td>31</td>\n",
       "      <td>NaN</td>\n",
       "      <td>13.0</td>\n",
       "      <td>0.0</td>\n",
       "      <td>410.0</td>\n",
       "      <td>42,000</td>\n",
       "      <td>NaN</td>\n",
       "      <td>NaN</td>\n",
       "      <td>NaN</td>\n",
       "      <td>155</td>\n",
       "      <td>NaN</td>\n",
       "      <td>NaN</td>\n",
       "    </tr>\n",
       "    <tr>\n",
       "      <th>4</th>\n",
       "      <td>2021</td>\n",
       "      <td>Northeastern</td>\n",
       "      <td>AC</td>\n",
       "      <td>49</td>\n",
       "      <td>NaN</td>\n",
       "      <td>13.0</td>\n",
       "      <td>0.0</td>\n",
       "      <td>410.0</td>\n",
       "      <td>48,000</td>\n",
       "      <td>NaN</td>\n",
       "      <td>NaN</td>\n",
       "      <td>NaN</td>\n",
       "      <td>245</td>\n",
       "      <td>NaN</td>\n",
       "      <td>NaN</td>\n",
       "    </tr>\n",
       "  </tbody>\n",
       "</table>\n",
       "</div>"
      ],
      "text/plain": [
       "   Year        Region Type Units  AFUE  SEER  Ducted  Refrigerant  \\\n",
       "0  2021  Northeastern   AC    33   NaN  13.0     0.0        410.0   \n",
       "1  2021  Northeastern   AC   326   NaN  13.0     0.0        410.0   \n",
       "2  2021  Northeastern   AC   289   NaN  13.0     0.0        410.0   \n",
       "3  2021  Northeastern   AC    31   NaN  13.0     0.0        410.0   \n",
       "4  2021  Northeastern   AC    49   NaN  13.0     0.0        410.0   \n",
       "\n",
       "  Cooling (Btu/hr) Heating (Btu/hr) MotorType HSPF FinalEstimate  EER FuelType  \n",
       "0           18,000              NaN       NaN  NaN           165  NaN      NaN  \n",
       "1           24,000              NaN       NaN  NaN         1,631  NaN      NaN  \n",
       "2           30,000              NaN       NaN  NaN         1,446  NaN      NaN  \n",
       "3           42,000              NaN       NaN  NaN           155  NaN      NaN  \n",
       "4           48,000              NaN       NaN  NaN           245  NaN      NaN  "
      ]
     },
     "execution_count": 6,
     "metadata": {},
     "output_type": "execute_result"
    }
   ],
   "source": [
    "df.head()"
   ]
  },
  {
   "cell_type": "code",
   "execution_count": 7,
   "id": "0fc8974d",
   "metadata": {},
   "outputs": [
    {
     "data": {
      "text/plain": [
       "(7815, 15)"
      ]
     },
     "execution_count": 7,
     "metadata": {},
     "output_type": "execute_result"
    }
   ],
   "source": [
    "df.shape"
   ]
  },
  {
   "cell_type": "code",
   "execution_count": 5,
   "id": "13b25371",
   "metadata": {},
   "outputs": [
    {
     "data": {
      "text/html": [
       "<div>\n",
       "<style scoped>\n",
       "    .dataframe tbody tr th:only-of-type {\n",
       "        vertical-align: middle;\n",
       "    }\n",
       "\n",
       "    .dataframe tbody tr th {\n",
       "        vertical-align: top;\n",
       "    }\n",
       "\n",
       "    .dataframe thead th {\n",
       "        text-align: right;\n",
       "    }\n",
       "</style>\n",
       "<table border=\"1\" class=\"dataframe\">\n",
       "  <thead>\n",
       "    <tr style=\"text-align: right;\">\n",
       "      <th></th>\n",
       "      <th>Year</th>\n",
       "      <th>AFUE</th>\n",
       "      <th>SEER</th>\n",
       "      <th>Ducted</th>\n",
       "      <th>Refrigerant</th>\n",
       "      <th>EER</th>\n",
       "    </tr>\n",
       "  </thead>\n",
       "  <tbody>\n",
       "    <tr>\n",
       "      <th>count</th>\n",
       "      <td>7815.000000</td>\n",
       "      <td>2840.000000</td>\n",
       "      <td>4776.000000</td>\n",
       "      <td>4857.000000</td>\n",
       "      <td>4845.000000</td>\n",
       "      <td>3274.000000</td>\n",
       "    </tr>\n",
       "    <tr>\n",
       "      <th>mean</th>\n",
       "      <td>2018.852335</td>\n",
       "      <td>88.250704</td>\n",
       "      <td>17.561139</td>\n",
       "      <td>0.437719</td>\n",
       "      <td>407.437358</td>\n",
       "      <td>11.808186</td>\n",
       "    </tr>\n",
       "    <tr>\n",
       "      <th>std</th>\n",
       "      <td>1.264162</td>\n",
       "      <td>5.980640</td>\n",
       "      <td>3.303248</td>\n",
       "      <td>0.496157</td>\n",
       "      <td>31.431542</td>\n",
       "      <td>1.636501</td>\n",
       "    </tr>\n",
       "    <tr>\n",
       "      <th>min</th>\n",
       "      <td>2017.000000</td>\n",
       "      <td>80.000000</td>\n",
       "      <td>13.000000</td>\n",
       "      <td>0.000000</td>\n",
       "      <td>22.000000</td>\n",
       "      <td>9.000000</td>\n",
       "    </tr>\n",
       "    <tr>\n",
       "      <th>25%</th>\n",
       "      <td>2018.000000</td>\n",
       "      <td>83.000000</td>\n",
       "      <td>15.000000</td>\n",
       "      <td>0.000000</td>\n",
       "      <td>410.000000</td>\n",
       "      <td>11.000000</td>\n",
       "    </tr>\n",
       "    <tr>\n",
       "      <th>50%</th>\n",
       "      <td>2019.000000</td>\n",
       "      <td>86.000000</td>\n",
       "      <td>17.000000</td>\n",
       "      <td>0.000000</td>\n",
       "      <td>410.000000</td>\n",
       "      <td>12.000000</td>\n",
       "    </tr>\n",
       "    <tr>\n",
       "      <th>75%</th>\n",
       "      <td>2020.000000</td>\n",
       "      <td>95.000000</td>\n",
       "      <td>20.000000</td>\n",
       "      <td>1.000000</td>\n",
       "      <td>410.000000</td>\n",
       "      <td>13.000000</td>\n",
       "    </tr>\n",
       "    <tr>\n",
       "      <th>max</th>\n",
       "      <td>2021.000000</td>\n",
       "      <td>99.000000</td>\n",
       "      <td>26.000000</td>\n",
       "      <td>1.000000</td>\n",
       "      <td>410.000000</td>\n",
       "      <td>20.000000</td>\n",
       "    </tr>\n",
       "  </tbody>\n",
       "</table>\n",
       "</div>"
      ],
      "text/plain": [
       "              Year         AFUE         SEER       Ducted  Refrigerant  \\\n",
       "count  7815.000000  2840.000000  4776.000000  4857.000000  4845.000000   \n",
       "mean   2018.852335    88.250704    17.561139     0.437719   407.437358   \n",
       "std       1.264162     5.980640     3.303248     0.496157    31.431542   \n",
       "min    2017.000000    80.000000    13.000000     0.000000    22.000000   \n",
       "25%    2018.000000    83.000000    15.000000     0.000000   410.000000   \n",
       "50%    2019.000000    86.000000    17.000000     0.000000   410.000000   \n",
       "75%    2020.000000    95.000000    20.000000     1.000000   410.000000   \n",
       "max    2021.000000    99.000000    26.000000     1.000000   410.000000   \n",
       "\n",
       "               EER  \n",
       "count  3274.000000  \n",
       "mean     11.808186  \n",
       "std       1.636501  \n",
       "min       9.000000  \n",
       "25%      11.000000  \n",
       "50%      12.000000  \n",
       "75%      13.000000  \n",
       "max      20.000000  "
      ]
     },
     "execution_count": 5,
     "metadata": {},
     "output_type": "execute_result"
    }
   ],
   "source": [
    "df.describe()"
   ]
  },
  {
   "cell_type": "code",
   "execution_count": 8,
   "id": "08fc806b",
   "metadata": {},
   "outputs": [
    {
     "name": "stdout",
     "output_type": "stream",
     "text": [
      "<class 'pandas.core.frame.DataFrame'>\n",
      "RangeIndex: 7815 entries, 0 to 7814\n",
      "Data columns (total 15 columns):\n",
      " #   Column            Non-Null Count  Dtype  \n",
      "---  ------            --------------  -----  \n",
      " 0   Year              7815 non-null   int64  \n",
      " 1   Region            7815 non-null   object \n",
      " 2   Type              7815 non-null   object \n",
      " 3   Units             7815 non-null   object \n",
      " 4   AFUE              2840 non-null   float64\n",
      " 5   SEER              4776 non-null   float64\n",
      " 6   Ducted            4857 non-null   float64\n",
      " 7   Refrigerant       4845 non-null   float64\n",
      " 8   Cooling (Btu/hr)  4854 non-null   object \n",
      " 9   Heating (Btu/hr)  2919 non-null   object \n",
      " 10  MotorType         1170 non-null   object \n",
      " 11  HSPF              3459 non-null   object \n",
      " 12  FinalEstimate     7815 non-null   object \n",
      " 13  EER               3274 non-null   float64\n",
      " 14  FuelType          2852 non-null   object \n",
      "dtypes: float64(5), int64(1), object(9)\n",
      "memory usage: 915.9+ KB\n"
     ]
    }
   ],
   "source": [
    "df.info()"
   ]
  },
  {
   "cell_type": "markdown",
   "id": "b9772cdc",
   "metadata": {},
   "source": [
    "I renamed all columns for ease of use when using python and modules, and librariaes."
   ]
  },
  {
   "cell_type": "code",
   "execution_count": 11,
   "id": "bf85a475",
   "metadata": {},
   "outputs": [],
   "source": [
    "#rename the columns so they are human readable\n",
    "df=df.rename(columns={'Year':'year','Region':'region','Type':'type','Units':'units','AFUE':'afue','SEER':'seer',\n",
    "                      'Ducted':'ducted','Refrigerant':'refrigerant','Cooling (Btu/hr)':'cooling_btu_hr',\n",
    "                      'Heating (Btu/hr)':'heating_btu_hr','MotorType':'motor_type','HSPF':'hspf',\n",
    "                      'FinalEstimate':'final_estimate','EER':'eer','FuelType':'fuel_type'})\n",
    "\n"
   ]
  },
  {
   "cell_type": "code",
   "execution_count": 12,
   "id": "30e6178c",
   "metadata": {},
   "outputs": [
    {
     "data": {
      "text/html": [
       "<div>\n",
       "<style scoped>\n",
       "    .dataframe tbody tr th:only-of-type {\n",
       "        vertical-align: middle;\n",
       "    }\n",
       "\n",
       "    .dataframe tbody tr th {\n",
       "        vertical-align: top;\n",
       "    }\n",
       "\n",
       "    .dataframe thead th {\n",
       "        text-align: right;\n",
       "    }\n",
       "</style>\n",
       "<table border=\"1\" class=\"dataframe\">\n",
       "  <thead>\n",
       "    <tr style=\"text-align: right;\">\n",
       "      <th></th>\n",
       "      <th>year</th>\n",
       "      <th>region</th>\n",
       "      <th>type</th>\n",
       "      <th>units</th>\n",
       "      <th>afue</th>\n",
       "      <th>seer</th>\n",
       "      <th>ducted</th>\n",
       "      <th>refrigerant</th>\n",
       "      <th>cooling_btu_hr</th>\n",
       "      <th>heating_btu_hr</th>\n",
       "      <th>motor_type</th>\n",
       "      <th>hspf</th>\n",
       "      <th>final_estimate</th>\n",
       "      <th>eer</th>\n",
       "      <th>fuel_type</th>\n",
       "    </tr>\n",
       "  </thead>\n",
       "  <tbody>\n",
       "    <tr>\n",
       "      <th>0</th>\n",
       "      <td>2021</td>\n",
       "      <td>Northeastern</td>\n",
       "      <td>AC</td>\n",
       "      <td>33</td>\n",
       "      <td>NaN</td>\n",
       "      <td>13.0</td>\n",
       "      <td>0.0</td>\n",
       "      <td>410.0</td>\n",
       "      <td>18,000</td>\n",
       "      <td>NaN</td>\n",
       "      <td>NaN</td>\n",
       "      <td>NaN</td>\n",
       "      <td>165</td>\n",
       "      <td>NaN</td>\n",
       "      <td>NaN</td>\n",
       "    </tr>\n",
       "    <tr>\n",
       "      <th>1</th>\n",
       "      <td>2021</td>\n",
       "      <td>Northeastern</td>\n",
       "      <td>AC</td>\n",
       "      <td>326</td>\n",
       "      <td>NaN</td>\n",
       "      <td>13.0</td>\n",
       "      <td>0.0</td>\n",
       "      <td>410.0</td>\n",
       "      <td>24,000</td>\n",
       "      <td>NaN</td>\n",
       "      <td>NaN</td>\n",
       "      <td>NaN</td>\n",
       "      <td>1,631</td>\n",
       "      <td>NaN</td>\n",
       "      <td>NaN</td>\n",
       "    </tr>\n",
       "    <tr>\n",
       "      <th>2</th>\n",
       "      <td>2021</td>\n",
       "      <td>Northeastern</td>\n",
       "      <td>AC</td>\n",
       "      <td>289</td>\n",
       "      <td>NaN</td>\n",
       "      <td>13.0</td>\n",
       "      <td>0.0</td>\n",
       "      <td>410.0</td>\n",
       "      <td>30,000</td>\n",
       "      <td>NaN</td>\n",
       "      <td>NaN</td>\n",
       "      <td>NaN</td>\n",
       "      <td>1,446</td>\n",
       "      <td>NaN</td>\n",
       "      <td>NaN</td>\n",
       "    </tr>\n",
       "    <tr>\n",
       "      <th>3</th>\n",
       "      <td>2021</td>\n",
       "      <td>Northeastern</td>\n",
       "      <td>AC</td>\n",
       "      <td>31</td>\n",
       "      <td>NaN</td>\n",
       "      <td>13.0</td>\n",
       "      <td>0.0</td>\n",
       "      <td>410.0</td>\n",
       "      <td>42,000</td>\n",
       "      <td>NaN</td>\n",
       "      <td>NaN</td>\n",
       "      <td>NaN</td>\n",
       "      <td>155</td>\n",
       "      <td>NaN</td>\n",
       "      <td>NaN</td>\n",
       "    </tr>\n",
       "    <tr>\n",
       "      <th>4</th>\n",
       "      <td>2021</td>\n",
       "      <td>Northeastern</td>\n",
       "      <td>AC</td>\n",
       "      <td>49</td>\n",
       "      <td>NaN</td>\n",
       "      <td>13.0</td>\n",
       "      <td>0.0</td>\n",
       "      <td>410.0</td>\n",
       "      <td>48,000</td>\n",
       "      <td>NaN</td>\n",
       "      <td>NaN</td>\n",
       "      <td>NaN</td>\n",
       "      <td>245</td>\n",
       "      <td>NaN</td>\n",
       "      <td>NaN</td>\n",
       "    </tr>\n",
       "  </tbody>\n",
       "</table>\n",
       "</div>"
      ],
      "text/plain": [
       "   year        region type units  afue  seer  ducted  refrigerant  \\\n",
       "0  2021  Northeastern   AC    33   NaN  13.0     0.0        410.0   \n",
       "1  2021  Northeastern   AC   326   NaN  13.0     0.0        410.0   \n",
       "2  2021  Northeastern   AC   289   NaN  13.0     0.0        410.0   \n",
       "3  2021  Northeastern   AC    31   NaN  13.0     0.0        410.0   \n",
       "4  2021  Northeastern   AC    49   NaN  13.0     0.0        410.0   \n",
       "\n",
       "  cooling_btu_hr heating_btu_hr motor_type hspf final_estimate  eer fuel_type  \n",
       "0         18,000            NaN        NaN  NaN            165  NaN       NaN  \n",
       "1         24,000            NaN        NaN  NaN          1,631  NaN       NaN  \n",
       "2         30,000            NaN        NaN  NaN          1,446  NaN       NaN  \n",
       "3         42,000            NaN        NaN  NaN            155  NaN       NaN  \n",
       "4         48,000            NaN        NaN  NaN            245  NaN       NaN  "
      ]
     },
     "execution_count": 12,
     "metadata": {},
     "output_type": "execute_result"
    }
   ],
   "source": [
    "df.head()"
   ]
  },
  {
   "cell_type": "code",
   "execution_count": 13,
   "id": "c556acaa",
   "metadata": {},
   "outputs": [
    {
     "data": {
      "text/plain": [
       "<bound method IndexOpsMixin.value_counts of 0       2021\n",
       "1       2021\n",
       "2       2021\n",
       "3       2021\n",
       "4       2021\n",
       "        ... \n",
       "7810    2017\n",
       "7811    2017\n",
       "7812    2017\n",
       "7813    2017\n",
       "7814    2017\n",
       "Name: year, Length: 7815, dtype: int64>"
      ]
     },
     "execution_count": 13,
     "metadata": {},
     "output_type": "execute_result"
    }
   ],
   "source": [
    "df.year.value_counts"
   ]
  },
  {
   "cell_type": "code",
   "execution_count": 14,
   "id": "c6c5df19",
   "metadata": {},
   "outputs": [
    {
     "data": {
      "text/plain": [
       "<bound method IndexOpsMixin.value_counts of 0       Northeastern\n",
       "1       Northeastern\n",
       "2       Northeastern\n",
       "3       Northeastern\n",
       "4       Northeastern\n",
       "            ...     \n",
       "7810              NY\n",
       "7811              NY\n",
       "7812              NY\n",
       "7813              NY\n",
       "7814              NY\n",
       "Name: region, Length: 7815, dtype: object>"
      ]
     },
     "execution_count": 14,
     "metadata": {},
     "output_type": "execute_result"
    }
   ],
   "source": [
    "df.region.value_counts"
   ]
  },
  {
   "cell_type": "code",
   "execution_count": 15,
   "id": "793fe32c",
   "metadata": {},
   "outputs": [
    {
     "data": {
      "text/plain": [
       "<bound method IndexOpsMixin.value_counts of 0            AC\n",
       "1            AC\n",
       "2            AC\n",
       "3            AC\n",
       "4            AC\n",
       "         ...   \n",
       "7810    Furnace\n",
       "7811    Furnace\n",
       "7812    Furnace\n",
       "7813    Furnace\n",
       "7814    Furnace\n",
       "Name: type, Length: 7815, dtype: object>"
      ]
     },
     "execution_count": 15,
     "metadata": {},
     "output_type": "execute_result"
    }
   ],
   "source": [
    "df.type.value_counts"
   ]
  },
  {
   "cell_type": "code",
   "execution_count": 16,
   "id": "03473fb7",
   "metadata": {},
   "outputs": [
    {
     "data": {
      "text/plain": [
       "<bound method IndexOpsMixin.value_counts of 0        33\n",
       "1       326\n",
       "2       289\n",
       "3        31\n",
       "4        49\n",
       "       ... \n",
       "7810      1\n",
       "7811     15\n",
       "7812      4\n",
       "7813      5\n",
       "7814      8\n",
       "Name: units, Length: 7815, dtype: object>"
      ]
     },
     "execution_count": 16,
     "metadata": {},
     "output_type": "execute_result"
    }
   ],
   "source": [
    "df.units.value_counts"
   ]
  },
  {
   "cell_type": "code",
   "execution_count": 17,
   "id": "b52c97e2",
   "metadata": {},
   "outputs": [
    {
     "data": {
      "text/plain": [
       "<bound method IndexOpsMixin.value_counts of 0        NaN\n",
       "1        NaN\n",
       "2        NaN\n",
       "3        NaN\n",
       "4        NaN\n",
       "        ... \n",
       "7810    90.0\n",
       "7811    90.0\n",
       "7812    92.0\n",
       "7813    92.0\n",
       "7814    92.0\n",
       "Name: afue, Length: 7815, dtype: float64>"
      ]
     },
     "execution_count": 17,
     "metadata": {},
     "output_type": "execute_result"
    }
   ],
   "source": [
    "df.afue.value_counts"
   ]
  },
  {
   "cell_type": "code",
   "execution_count": 18,
   "id": "2bb63986",
   "metadata": {},
   "outputs": [
    {
     "data": {
      "text/plain": [
       "<bound method IndexOpsMixin.value_counts of 0       13.0\n",
       "1       13.0\n",
       "2       13.0\n",
       "3       13.0\n",
       "4       13.0\n",
       "        ... \n",
       "7810     NaN\n",
       "7811     NaN\n",
       "7812     NaN\n",
       "7813     NaN\n",
       "7814     NaN\n",
       "Name: seer, Length: 7815, dtype: float64>"
      ]
     },
     "execution_count": 18,
     "metadata": {},
     "output_type": "execute_result"
    }
   ],
   "source": [
    "df.seer.value_counts"
   ]
  },
  {
   "cell_type": "code",
   "execution_count": 19,
   "id": "27dbb80d",
   "metadata": {},
   "outputs": [
    {
     "data": {
      "text/plain": [
       "<bound method IndexOpsMixin.value_counts of 0       0.0\n",
       "1       0.0\n",
       "2       0.0\n",
       "3       0.0\n",
       "4       0.0\n",
       "       ... \n",
       "7810    NaN\n",
       "7811    NaN\n",
       "7812    NaN\n",
       "7813    NaN\n",
       "7814    NaN\n",
       "Name: ducted, Length: 7815, dtype: float64>"
      ]
     },
     "execution_count": 19,
     "metadata": {},
     "output_type": "execute_result"
    }
   ],
   "source": [
    "df.ducted.value_counts"
   ]
  },
  {
   "cell_type": "code",
   "execution_count": 20,
   "id": "ffbd5889",
   "metadata": {},
   "outputs": [
    {
     "data": {
      "text/plain": [
       "<bound method IndexOpsMixin.value_counts of 0       410.0\n",
       "1       410.0\n",
       "2       410.0\n",
       "3       410.0\n",
       "4       410.0\n",
       "        ...  \n",
       "7810      NaN\n",
       "7811      NaN\n",
       "7812      NaN\n",
       "7813      NaN\n",
       "7814      NaN\n",
       "Name: refrigerant, Length: 7815, dtype: float64>"
      ]
     },
     "execution_count": 20,
     "metadata": {},
     "output_type": "execute_result"
    }
   ],
   "source": [
    "df.refrigerant.value_counts"
   ]
  },
  {
   "cell_type": "code",
   "execution_count": 21,
   "id": "887f645e",
   "metadata": {},
   "outputs": [
    {
     "data": {
      "text/plain": [
       "<bound method IndexOpsMixin.value_counts of 0       18,000\n",
       "1       24,000\n",
       "2       30,000\n",
       "3       42,000\n",
       "4       48,000\n",
       "         ...  \n",
       "7810       NaN\n",
       "7811       NaN\n",
       "7812       NaN\n",
       "7813       NaN\n",
       "7814       NaN\n",
       "Name: cooling_btu_hr, Length: 7815, dtype: object>"
      ]
     },
     "execution_count": 21,
     "metadata": {},
     "output_type": "execute_result"
    }
   ],
   "source": [
    "df.cooling_btu_hr.value_counts"
   ]
  },
  {
   "cell_type": "code",
   "execution_count": 22,
   "id": "601249aa",
   "metadata": {},
   "outputs": [
    {
     "data": {
      "text/plain": [
       "<bound method IndexOpsMixin.value_counts of 0           NaN\n",
       "1           NaN\n",
       "2           NaN\n",
       "3           NaN\n",
       "4           NaN\n",
       "         ...   \n",
       "7810    120,000\n",
       "7811    140,000\n",
       "7812    100,000\n",
       "7813    120,000\n",
       "7814     40,000\n",
       "Name: heating_btu_hr, Length: 7815, dtype: object>"
      ]
     },
     "execution_count": 22,
     "metadata": {},
     "output_type": "execute_result"
    }
   ],
   "source": [
    "df.heating_btu_hr.value_counts"
   ]
  },
  {
   "cell_type": "code",
   "execution_count": 23,
   "id": "3cd150bb",
   "metadata": {},
   "outputs": [
    {
     "data": {
      "text/plain": [
       "<bound method IndexOpsMixin.value_counts of 0       NaN\n",
       "1       NaN\n",
       "2       NaN\n",
       "3       NaN\n",
       "4       NaN\n",
       "       ... \n",
       "7810    ECM\n",
       "7811    PSC\n",
       "7812    NaN\n",
       "7813    NaN\n",
       "7814    NaN\n",
       "Name: motor_type, Length: 7815, dtype: object>"
      ]
     },
     "execution_count": 23,
     "metadata": {},
     "output_type": "execute_result"
    }
   ],
   "source": [
    "df.motor_type.value_counts"
   ]
  },
  {
   "cell_type": "code",
   "execution_count": 24,
   "id": "e799a82f",
   "metadata": {},
   "outputs": [
    {
     "data": {
      "text/plain": [
       "<bound method IndexOpsMixin.value_counts of 0       NaN\n",
       "1       NaN\n",
       "2       NaN\n",
       "3       NaN\n",
       "4       NaN\n",
       "       ... \n",
       "7810    NaN\n",
       "7811    NaN\n",
       "7812    NaN\n",
       "7813    NaN\n",
       "7814    NaN\n",
       "Name: hspf, Length: 7815, dtype: object>"
      ]
     },
     "execution_count": 24,
     "metadata": {},
     "output_type": "execute_result"
    }
   ],
   "source": [
    "df.hspf.value_counts"
   ]
  },
  {
   "cell_type": "code",
   "execution_count": 25,
   "id": "d42120f1",
   "metadata": {},
   "outputs": [
    {
     "data": {
      "text/plain": [
       "<bound method IndexOpsMixin.value_counts of 0               165\n",
       "1             1,631\n",
       "2             1,446\n",
       "3               155\n",
       "4               245\n",
       "           ...     \n",
       "7810     6.67184381\n",
       "7811    100.0776571\n",
       "7812    26.68737524\n",
       "7813    33.35921905\n",
       "7814    53.37475048\n",
       "Name: final_estimate, Length: 7815, dtype: object>"
      ]
     },
     "execution_count": 25,
     "metadata": {},
     "output_type": "execute_result"
    }
   ],
   "source": [
    "df.final_estimate.value_counts"
   ]
  },
  {
   "cell_type": "code",
   "execution_count": 26,
   "id": "30dc7195",
   "metadata": {},
   "outputs": [
    {
     "data": {
      "text/plain": [
       "<bound method IndexOpsMixin.value_counts of 0      NaN\n",
       "1      NaN\n",
       "2      NaN\n",
       "3      NaN\n",
       "4      NaN\n",
       "        ..\n",
       "7810   NaN\n",
       "7811   NaN\n",
       "7812   NaN\n",
       "7813   NaN\n",
       "7814   NaN\n",
       "Name: eer, Length: 7815, dtype: float64>"
      ]
     },
     "execution_count": 26,
     "metadata": {},
     "output_type": "execute_result"
    }
   ],
   "source": [
    "df.eer.value_counts"
   ]
  },
  {
   "cell_type": "code",
   "execution_count": 27,
   "id": "a5886c01",
   "metadata": {},
   "outputs": [
    {
     "data": {
      "text/plain": [
       "<bound method IndexOpsMixin.value_counts of 0               NaN\n",
       "1               NaN\n",
       "2               NaN\n",
       "3               NaN\n",
       "4               NaN\n",
       "           ...     \n",
       "7810    Natural Gas\n",
       "7811            Oil\n",
       "7812    Natural Gas\n",
       "7813    Natural Gas\n",
       "7814    Natural Gas\n",
       "Name: fuel_type, Length: 7815, dtype: object>"
      ]
     },
     "execution_count": 27,
     "metadata": {},
     "output_type": "execute_result"
    }
   ],
   "source": [
    "df.fuel_type.value_counts"
   ]
  },
  {
   "cell_type": "code",
   "execution_count": 29,
   "id": "0102616b",
   "metadata": {},
   "outputs": [
    {
     "data": {
      "text/plain": [
       "array([2021, 2018, 2020, 2019, 2017])"
      ]
     },
     "execution_count": 29,
     "metadata": {},
     "output_type": "execute_result"
    }
   ],
   "source": [
    "df.year.unique()"
   ]
  },
  {
   "cell_type": "code",
   "execution_count": 30,
   "id": "ee6aec70",
   "metadata": {},
   "outputs": [
    {
     "data": {
      "text/plain": [
       "array(['Northeastern', 'NY'], dtype=object)"
      ]
     },
     "execution_count": 30,
     "metadata": {},
     "output_type": "execute_result"
    }
   ],
   "source": [
    "df.region.unique()"
   ]
  },
  {
   "cell_type": "code",
   "execution_count": 31,
   "id": "476dbdc1",
   "metadata": {},
   "outputs": [
    {
     "data": {
      "text/plain": [
       "array(['AC', 'Furnace', 'ASHP', 'Boiler', 'GEU'], dtype=object)"
      ]
     },
     "execution_count": 31,
     "metadata": {},
     "output_type": "execute_result"
    }
   ],
   "source": [
    "df.type.unique()"
   ]
  },
  {
   "cell_type": "code",
   "execution_count": 32,
   "id": "c7b0025e",
   "metadata": {},
   "outputs": [
    {
     "data": {
      "text/plain": [
       "array(['33', '326', '289', '31', '49', '28', '2', '3', '16', '20', '19',\n",
       "       '25', '11', '9', '61', '99', '150', '208', '37', '5', '1', '55',\n",
       "       '82', '94', '129', '618', '2,112', '1,842', '2,471', '695', '991',\n",
       "       '590', '263', '469', '572', '694', '231', '211', '120', '118',\n",
       "       '267', '726', '692', '733', '276', '376', '207', '7', '10', '4',\n",
       "       '0', '22', '29', '56', '168', '75', '30', '38', '8', '45', '6',\n",
       "       '17', '87', '114', '843', '12', '362', '187', '15', '136', '117',\n",
       "       '226', '27', '42', '255', '1,753', '50', '372', '46', '293', '-2',\n",
       "       '259', '143', '51', '173', '552', '554', '60', '212', '728', '73',\n",
       "       '152', '206', '128', '63', '1,562', '182', '74', '111', '43',\n",
       "       '393', '180', '113', '2,369', '84', '575', '112', '85', '58',\n",
       "       '163', '81', '760', '327', '159', '237', '337', '503', '310', '34',\n",
       "       '161', '64', '368', '24', '459', '184', '156', '23', '361', '405',\n",
       "       '216', '53', '21', '35', '14', '13', '-1', '44', '57', '484',\n",
       "       '659', '248', '544', '40', '431', '601', '54', '234', '68', '47',\n",
       "       '18', '153', '166', '389', '145', '201', '125', '59', '39', '229',\n",
       "       '121', '119', '97', '329', '71', '36', '566', '157', '72', '355',\n",
       "       '41', '1,029', '67', '1,522', '123', '1,244', '104', '62', '65',\n",
       "       '32', '-3', '48', '1,410', '5,214', '4,314', '4,628', '1,606',\n",
       "       '1,209', '262', '870', '131', '260', '976', '108', '258', '155',\n",
       "       '438', '454', '546', '183', '1,438', '1,283', '1,224', '555',\n",
       "       '851', '342', '26', '79', '251', '88', '80', '343', '626', '154',\n",
       "       '995', '91', '107', '296', '86', '298', '70', '280', '132', '103',\n",
       "       '138', '76', '102', '193', '387', '194', '109', '171', '66', '660',\n",
       "       '202', '176', '92', '309', '141', '1,050', '1,538', '564', '542',\n",
       "       '982', '164', '140', '105', '597', '759', '802', '690', '403',\n",
       "       '52', '223', '77', '95', '146', '101', '364', '69', '311', '378',\n",
       "       '746', '195', '519', '399', '151', '336', '179', '334', '960',\n",
       "       '715', '396', '401', '299', '133', '550', '235', '174', '906',\n",
       "       '167', '160', '930', '420', '838', '273', '115', '1,676', '3,085',\n",
       "       '215', '2,441', '321', '199', '93', '1,173', '2,277', '3,057',\n",
       "       '1,452', '485', '283', '633', '696', '528', '787', '674', '871',\n",
       "       '400', '478', '144', '1,081', '89', '83', '435', '426', '189',\n",
       "       '377', '1,139', '1,368', '714', '232', '578', '241', '279', '122',\n",
       "       '188', '295', '848', '142', '1,031', '90', '78', '245', '271',\n",
       "       '158', '124', '257', '272', '331', '371', '743', '1,392', '1,041',\n",
       "       '1,262', '4,656', '5,299', '2,900', '1,069', '1,038', '264', '778',\n",
       "       '1,109', '463', '506', '954', '890', '468', '671', '286', '341',\n",
       "       '300', '210', '213', '587', '148', '130', '165', '1,236', '100',\n",
       "       '480', '209', '228', '116', '239', '139', '106', '261', '169',\n",
       "       '1,955', '352', '98', '219', '504', '340', '819', '227', '349',\n",
       "       '444', '224', '653', '374', '686', '713', '345', '275', '1,325',\n",
       "       '2,600', '1,910', '268', '217', '383', '1,107', '1,682', '591',\n",
       "       '407', '190', '424', '817', '621', '775', '240', '172', '269',\n",
       "       '443', '302', '325', '285', '942', '935', '700', '375', '395',\n",
       "       '515', '392', '1,078', '344', '356', '149', '999', '1,969',\n",
       "       '1,821', '1,551', '474', '316', '791', '265', '252', '127', '205',\n",
       "       '178', '411', '147', '559', '181', '170', '203', '238', '186',\n",
       "       '520', '385', '493', '613', '428', '315', '126', '243', '306',\n",
       "       '192', '801', '756', '247', '96', '196', '447', '616', '567',\n",
       "       '191', '427', '1,460', '353', '317', '917', '553', '825', '465',\n",
       "       '1,023', '772', '2,395', '3,839', '3,680', '678', '266', '414',\n",
       "       '236', '464', '412', '366', '134', '602', '529', '923', '294',\n",
       "       '1,163', '697', '524', '458', '406', '2,824', '502', '332', '277',\n",
       "       '204', '162', '1,260', '1,530', '600', '864', '135', '417',\n",
       "       '1,534', '386', '397', '740', '305', '539', '901', '637', '1,839',\n",
       "       '333', '402', '1,210', '249', '323', '384', '573', '691', '270',\n",
       "       '253', '965', '810', '2,153', '1,106', '312', '627', '1,826',\n",
       "       '908', '1,604', '218', '320', '745', '246', '200', '390', '509',\n",
       "       '766', '416', '379', '762', '779', '462', '346', '197', '254',\n",
       "       '904', '488', '522', '324', '339', '137', '350', '363', '818',\n",
       "       '576', '297', '409', '481', '585', '866', '1,143', '351', '1,642',\n",
       "       '175', '3,645', '1,855', '670', '3,237', '380', '244', '500',\n",
       "       '603', '233', '482', '313', '483', '274', '242', '419', '256',\n",
       "       '479', '1,312', '526', '636', '679', '1,025', '705', '790',\n",
       "       '1,241', '1,110', '2,524', '755', '225', '1,277', '3,339', '2,640',\n",
       "       '648', '441', '1,367', '3,259', '1,321', '357', '833', '716',\n",
       "       '1,499', '1,065', '1,130', '1,496', '604', '718', '1,121', '508',\n",
       "       '185', '540', '381', '588', '609', '1,122', '338', '307', '177',\n",
       "       '859', '1,087', '470', '1,043', '773', '290', '1,289', '654',\n",
       "       '367', '1,469', '442', '457', '584', '723', '606', '1,747',\n",
       "       '3,501', '642', '792', '4,158', '1,999', '110', '214', '330',\n",
       "       '278', '518', '938', '1,261', '969', '811', '1,362', '1,494',\n",
       "       '2,991', '230', '672', '950', '921', '1,897', '676', '844'],\n",
       "      dtype=object)"
      ]
     },
     "execution_count": 32,
     "metadata": {},
     "output_type": "execute_result"
    }
   ],
   "source": [
    "df.units.unique()"
   ]
  },
  {
   "cell_type": "code",
   "execution_count": 33,
   "id": "cedd7e9c",
   "metadata": {},
   "outputs": [
    {
     "data": {
      "text/plain": [
       "array([nan, 83., 92., 80., 81., 82., 84., 85., 86., 87., 90., 91., 93.,\n",
       "       94., 95., 96., 97., 98., 88., 89., 99.])"
      ]
     },
     "execution_count": 33,
     "metadata": {},
     "output_type": "execute_result"
    }
   ],
   "source": [
    "df.afue.unique()"
   ]
  },
  {
   "cell_type": "code",
   "execution_count": 34,
   "id": "3aee9f6e",
   "metadata": {},
   "outputs": [
    {
     "data": {
      "text/plain": [
       "array([13., 14., 15., 16., 17., 18., 20., 22., 23., 19., nan, 21., 24.,\n",
       "       25., 26.])"
      ]
     },
     "execution_count": 34,
     "metadata": {},
     "output_type": "execute_result"
    }
   ],
   "source": [
    "df.seer.unique()"
   ]
  },
  {
   "cell_type": "code",
   "execution_count": 35,
   "id": "74cac2ed",
   "metadata": {},
   "outputs": [
    {
     "data": {
      "text/plain": [
       "array([ 0.,  1., nan])"
      ]
     },
     "execution_count": 35,
     "metadata": {},
     "output_type": "execute_result"
    }
   ],
   "source": [
    "df.ducted.unique()"
   ]
  },
  {
   "cell_type": "code",
   "execution_count": 36,
   "id": "06784209",
   "metadata": {},
   "outputs": [
    {
     "data": {
      "text/plain": [
       "array([410.,  nan,  22.])"
      ]
     },
     "execution_count": 36,
     "metadata": {},
     "output_type": "execute_result"
    }
   ],
   "source": [
    "df.refrigerant.unique()"
   ]
  },
  {
   "cell_type": "code",
   "execution_count": 37,
   "id": "e549cd84",
   "metadata": {},
   "outputs": [
    {
     "data": {
      "text/plain": [
       "array(['18,000', '24,000', '30,000', '42,000', '48,000', '60,000',\n",
       "       '36,000', '12,000', nan, '6,000', '54,000', '72,000'], dtype=object)"
      ]
     },
     "execution_count": 37,
     "metadata": {},
     "output_type": "execute_result"
    }
   ],
   "source": [
    "df.cooling_btu_hr.unique()"
   ]
  },
  {
   "cell_type": "code",
   "execution_count": 38,
   "id": "cb79fdce",
   "metadata": {},
   "outputs": [
    {
     "data": {
      "text/plain": [
       "array([nan, '60,000', '40,000', '120,000', '80,000', '100,000', '140,000',\n",
       "       '160,000', '20,000'], dtype=object)"
      ]
     },
     "execution_count": 38,
     "metadata": {},
     "output_type": "execute_result"
    }
   ],
   "source": [
    "df.heating_btu_hr.unique()"
   ]
  },
  {
   "cell_type": "code",
   "execution_count": 39,
   "id": "d5f38c1c",
   "metadata": {},
   "outputs": [
    {
     "data": {
      "text/plain": [
       "array([nan, 'PSC', 'ECM'], dtype=object)"
      ]
     },
     "execution_count": 39,
     "metadata": {},
     "output_type": "execute_result"
    }
   ],
   "source": [
    "df.motor_type.unique()"
   ]
  },
  {
   "cell_type": "code",
   "execution_count": 40,
   "id": "63070489",
   "metadata": {},
   "outputs": [
    {
     "data": {
      "text/plain": [
       "array([nan, '7.70-8.19', '8.50-8.99', '8.20-8.49', '10.00-10.49',\n",
       "       '11.00+', '9.00-9.49', '9.50-9.99', '10.50-10.99'], dtype=object)"
      ]
     },
     "execution_count": 40,
     "metadata": {},
     "output_type": "execute_result"
    }
   ],
   "source": [
    "df.hspf.unique()"
   ]
  },
  {
   "cell_type": "code",
   "execution_count": 41,
   "id": "9f501970",
   "metadata": {},
   "outputs": [
    {
     "data": {
      "text/plain": [
       "array(['165', '1,631', '1,446', ..., '1,687.98', '146.7805638',\n",
       "       '173.467939'], dtype=object)"
      ]
     },
     "execution_count": 41,
     "metadata": {},
     "output_type": "execute_result"
    }
   ],
   "source": [
    "df.final_estimate.unique()"
   ]
  },
  {
   "cell_type": "code",
   "execution_count": 42,
   "id": "6c442099",
   "metadata": {},
   "outputs": [
    {
     "data": {
      "text/plain": [
       "array([nan,  9., 12., 20., 10., 11., 13., 14., 15., 16., 18., 19.])"
      ]
     },
     "execution_count": 42,
     "metadata": {},
     "output_type": "execute_result"
    }
   ],
   "source": [
    "df.eer.unique()"
   ]
  },
  {
   "cell_type": "code",
   "execution_count": 43,
   "id": "1bef40cc",
   "metadata": {},
   "outputs": [
    {
     "data": {
      "text/plain": [
       "array([nan, 'Oil', 'Natural Gas'], dtype=object)"
      ]
     },
     "execution_count": 43,
     "metadata": {},
     "output_type": "execute_result"
    }
   ],
   "source": [
    "df.fuel_type.unique()"
   ]
  },
  {
   "cell_type": "code",
   "execution_count": null,
   "id": "14c03477",
   "metadata": {},
   "outputs": [],
   "source": []
  },
  {
   "cell_type": "code",
   "execution_count": null,
   "id": "cacfe4a1",
   "metadata": {},
   "outputs": [],
   "source": []
  },
  {
   "cell_type": "markdown",
   "id": "6c4b8bd3",
   "metadata": {},
   "source": [
    "### I noticed that a few columns need the data type changed to int64, float64, or object:\n",
    "3   units  int64\n",
    "7   refrigerant object\n",
    "8   cooling_btu_hr)int64\n",
    "9   heating_btu_hr)int64\n",
    "12  FinalEstimateint64\n",
    "11  HSPFfloat64"
   ]
  },
  {
   "cell_type": "code",
   "execution_count": null,
   "id": "b7d91c58",
   "metadata": {},
   "outputs": [],
   "source": [
    "# update datatypes of binned values to be float\n",
    "df = df.astype({'sqft_bin': 'float64', 'acres_bin': 'float64', 'age_bin': 'float64',\n",
    "                    'structure_dollar_sqft_bin': 'float64', 'lot_dollar_sqft_bin': 'float64'})"
   ]
  },
  {
   "cell_type": "markdown",
   "id": "4fe3d228",
   "metadata": {},
   "source": [
    "### I noticed that encoding was needed:\n",
    "1   Region            7815 non-null   object \n",
    "2   Type              7815 non-null   object\n",
    "7   Refrigerant       4845 non-null   float64\n",
    "10  MotorType         1170 non-null   object\n",
    "14  FuelType          2852 non-null   object\n",
    "\n",
    "# Convert binary categorical variables to numeric\n",
    "    df['fips_encoded'] = df.fips.map({6037:1, 6059:2, 6111:3})"
   ]
  },
  {
   "cell_type": "markdown",
   "id": "d531538f",
   "metadata": {},
   "source": [
    "### I noticed that HSPF needed to be binned due to ranges cells.\n",
    "11  HSPF              3459 non-null   object\n",
    "\n",
    "\n",
    "\n",
    "\n",
    "\n",
    "def create_features(df):\n",
    "    df['age'] = 2017 - df.yearbuilt\n",
    "    df['age_bin'] = pd.cut(df.age, \n",
    "                           bins = [0, 5, 10, 20, 30, 40, 50, 60, 70, 80, 90, 100, 110, 120, 130, 140],\n",
    "                           labels = [0, .066, .133, .20, .266, .333, .40, .466, .533, \n",
    "                                     .60, .666, .733, .8, .866, .933])"
   ]
  },
  {
   "cell_type": "code",
   "execution_count": null,
   "id": "113f8323",
   "metadata": {},
   "outputs": [],
   "source": [
    "def get_counties():\n",
    "    '''\n",
    "    This function will create dummy variables out of the original fips column. \n",
    "    And return a dataframe with all of the original columns except regionidcounty.\n",
    "    We will keep fips column for data validation after making changes. \n",
    "    New columns added will be 'LA', 'Orange', and 'Ventura' which are boolean \n",
    "    The fips ids are renamed to be the name of the county each represents. \n",
    "    '''\n",
    "    # create dummy vars of fips id\n",
    "    county_df = pd.get_dummies(df.fips)\n",
    "    # rename columns by actual county name\n",
    "    county_df.columns = ['LA', 'Orange', 'Ventura']\n",
    "    # concatenate the dataframe with the 3 county columns to the original dataframe\n",
    "    df_dummies = pd.concat([df, county_df], axis = 1)\n",
    "    # drop regionidcounty and fips columns\n",
    "    df_dummies = df_dummies.drop(columns = ['regionidcounty'])\n",
    "    return df_dummies\n"
   ]
  },
  {
   "cell_type": "code",
   "execution_count": null,
   "id": "9c0c9a62",
   "metadata": {},
   "outputs": [],
   "source": [
    "# Convert binary categorical variables to numeric\n",
    "    df['fips_encoded'] = df.fips.map({6037:1, 6059:2, 6111:3})"
   ]
  },
  {
   "cell_type": "markdown",
   "id": "dcf0dd48",
   "metadata": {},
   "source": [
    "Summarize the data through aggregates, descriptive stats and distribution plots (histograms, density plots, boxplots, e.g.). (pandas: .value_counts, .head, .shape, .describe, .info, matplotlib.pyplot.hist, seaborn.boxplot)\n"
   ]
  },
  {
   "cell_type": "code",
   "execution_count": null,
   "id": "d762e3be",
   "metadata": {},
   "outputs": [],
   "source": [
    "def wrangle_hvac():\n",
    "    '''\n",
    "    Read hvac into a pandas DataFrame from csv saved on desktop,\n",
    "    replace whitespaces with NaN values,\n",
    "    return cleaned student grades DataFrame.\n",
    "    '''\n",
    "\n",
    "    # Acquire data\n",
    "\n",
    "    hvac = get_hvac_data()\n",
    "\n",
    "    # Replace white space values with NaN values.\n",
    "    hvac = hvac.replace(r'^\\s*$', np.nan, regex=True)\n",
    "\n",
    "    return df"
   ]
  },
  {
   "cell_type": "code",
   "execution_count": null,
   "id": "b2c621be",
   "metadata": {},
   "outputs": [],
   "source": []
  },
  {
   "cell_type": "code",
   "execution_count": null,
   "id": "6349d982",
   "metadata": {},
   "outputs": [],
   "source": []
  },
  {
   "cell_type": "code",
   "execution_count": null,
   "id": "7a43f02f",
   "metadata": {},
   "outputs": [],
   "source": []
  },
  {
   "cell_type": "code",
   "execution_count": null,
   "id": "ab43dbc0",
   "metadata": {},
   "outputs": [],
   "source": []
  },
  {
   "cell_type": "code",
   "execution_count": null,
   "id": "2ee887a2",
   "metadata": {},
   "outputs": [],
   "source": []
  },
  {
   "cell_type": "code",
   "execution_count": null,
   "id": "03e2c520",
   "metadata": {},
   "outputs": [],
   "source": []
  },
  {
   "cell_type": "code",
   "execution_count": null,
   "id": "5eae4482",
   "metadata": {},
   "outputs": [],
   "source": []
  },
  {
   "cell_type": "code",
   "execution_count": null,
   "id": "ecd7646d",
   "metadata": {},
   "outputs": [],
   "source": []
  },
  {
   "cell_type": "code",
   "execution_count": null,
   "id": "aa136bd2",
   "metadata": {},
   "outputs": [],
   "source": []
  },
  {
   "cell_type": "code",
   "execution_count": null,
   "id": "693a5345",
   "metadata": {},
   "outputs": [],
   "source": []
  },
  {
   "cell_type": "code",
   "execution_count": null,
   "id": "10f992ae",
   "metadata": {},
   "outputs": [],
   "source": []
  },
  {
   "cell_type": "code",
   "execution_count": null,
   "id": "87103085",
   "metadata": {},
   "outputs": [],
   "source": []
  },
  {
   "cell_type": "code",
   "execution_count": null,
   "id": "530a3677",
   "metadata": {},
   "outputs": [],
   "source": []
  },
  {
   "cell_type": "code",
   "execution_count": null,
   "id": "6a660480",
   "metadata": {},
   "outputs": [],
   "source": []
  },
  {
   "cell_type": "code",
   "execution_count": null,
   "id": "3ecec98a",
   "metadata": {},
   "outputs": [],
   "source": []
  },
  {
   "cell_type": "code",
   "execution_count": null,
   "id": "53dbc614",
   "metadata": {},
   "outputs": [],
   "source": []
  }
 ],
 "metadata": {
  "kernelspec": {
   "display_name": "Python 3 (ipykernel)",
   "language": "python",
   "name": "python3"
  },
  "language_info": {
   "codemirror_mode": {
    "name": "ipython",
    "version": 3
   },
   "file_extension": ".py",
   "mimetype": "text/x-python",
   "name": "python",
   "nbconvert_exporter": "python",
   "pygments_lexer": "ipython3",
   "version": "3.9.12"
  }
 },
 "nbformat": 4,
 "nbformat_minor": 5
}
